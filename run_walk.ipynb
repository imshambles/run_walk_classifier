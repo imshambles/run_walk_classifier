{
 "cells": [
  {
   "cell_type": "code",
   "execution_count": 33,
   "metadata": {},
   "outputs": [],
   "source": [
    "import numpy as np\n",
    "import pandas as pd\n",
    "\n",
    "from keras.callbacks import Callback\n",
    "from keras.callbacks import EarlyStopping\n",
    "from keras.layers import Dense, Input, BatchNormalization, Dropout\n",
    "from keras.models import Sequential, Model\n",
    "from keras.utils import np_utils\n",
    "from keras.utils.np_utils import to_categorical\n",
    "from keras.wrappers.scikit_learn import KerasClassifier\n",
    "from sklearn.model_selection import train_test_split\n",
    "from sklearn.model_selection import cross_val_score\n",
    "from sklearn.model_selection import KFold"
   ]
  },
  {
   "cell_type": "code",
   "execution_count": 28,
   "metadata": {},
   "outputs": [
    {
     "name": "stdout",
     "output_type": "stream",
     "text": [
      "<class 'pandas.core.frame.DataFrame'>\n",
      "RangeIndex: 88588 entries, 0 to 88587\n",
      "Data columns (total 11 columns):\n",
      "date              88588 non-null object\n",
      "time              88588 non-null object\n",
      "username          88588 non-null object\n",
      "wrist             88588 non-null int64\n",
      "activity          88588 non-null int64\n",
      "acceleration_x    88588 non-null float64\n",
      "acceleration_y    88588 non-null float64\n",
      "acceleration_z    88588 non-null float64\n",
      "gyro_x            88588 non-null float64\n",
      "gyro_y            88588 non-null float64\n",
      "gyro_z            88588 non-null float64\n",
      "dtypes: float64(6), int64(2), object(3)\n",
      "memory usage: 7.4+ MB\n"
     ]
    }
   ],
   "source": [
    "data = pd.read_csv('dataset.csv')\n",
    "data.info()"
   ]
  },
  {
   "cell_type": "code",
   "execution_count": 3,
   "metadata": {},
   "outputs": [
    {
     "name": "stdout",
     "output_type": "stream",
     "text": [
      "<class 'pandas.core.frame.DataFrame'>\n",
      "RangeIndex: 88588 entries, 0 to 88587\n",
      "Data columns (total 7 columns):\n",
      "wrist             88588 non-null int64\n",
      "acceleration_x    88588 non-null float64\n",
      "acceleration_y    88588 non-null float64\n",
      "acceleration_z    88588 non-null float64\n",
      "gyro_x            88588 non-null float64\n",
      "gyro_y            88588 non-null float64\n",
      "gyro_z            88588 non-null float64\n",
      "dtypes: float64(6), int64(1)\n",
      "memory usage: 4.7 MB\n",
      "<class 'pandas.core.frame.DataFrame'>\n",
      "RangeIndex: 88588 entries, 0 to 88587\n",
      "Data columns (total 1 columns):\n",
      "activity    88588 non-null int64\n",
      "dtypes: int64(1)\n",
      "memory usage: 692.2 KB\n"
     ]
    },
    {
     "data": {
      "text/plain": [
       "(None, None)"
      ]
     },
     "execution_count": 3,
     "metadata": {},
     "output_type": "execute_result"
    }
   ],
   "source": [
    "x_train = data[['wrist', 'acceleration_x', 'acceleration_y', 'acceleration_z', 'gyro_x', 'gyro_y', 'gyro_z']]\n",
    "y_train = data[['activity']]\n",
    "x_train.info(), y_train.info()"
   ]
  },
  {
   "cell_type": "code",
   "execution_count": 4,
   "metadata": {},
   "outputs": [
    {
     "data": {
      "text/plain": [
       "((88588, 7), (88588, 1))"
      ]
     },
     "execution_count": 4,
     "metadata": {},
     "output_type": "execute_result"
    }
   ],
   "source": [
    "x_train = np.array(x_train)\n",
    "y_train = np.array(y_train)\n",
    "x_train.shape, y_train.shape"
   ]
  },
  {
   "cell_type": "code",
   "execution_count": 53,
   "metadata": {},
   "outputs": [
    {
     "name": "stdout",
     "output_type": "stream",
     "text": [
      "_________________________________________________________________\n",
      "Layer (type)                 Output Shape              Param #   \n",
      "=================================================================\n",
      "dense_30 (Dense)             (None, 250)               2000      \n",
      "_________________________________________________________________\n",
      "batch_normalization_11 (Batc (None, 250)               1000      \n",
      "_________________________________________________________________\n",
      "dropout_6 (Dropout)          (None, 250)               0         \n",
      "_________________________________________________________________\n",
      "dense_31 (Dense)             (None, 1)                 251       \n",
      "=================================================================\n",
      "Total params: 3,251\n",
      "Trainable params: 2,751\n",
      "Non-trainable params: 500\n",
      "_________________________________________________________________\n"
     ]
    }
   ],
   "source": [
    "model = Sequential()\n",
    "model.add(Dense(250, activation = 'relu', input_shape = (7,)))\n",
    "model.add(BatchNormalization())\n",
    "model.add(Dropout(rate = 0.25))\n",
    "model.add(Dense(1, activation = 'sigmoid'))\n",
    "model.summary()"
   ]
  },
  {
   "cell_type": "code",
   "execution_count": 54,
   "metadata": {},
   "outputs": [],
   "source": [
    "model.compile(loss = 'binary_crossentropy', optimizer = 'adam', metrics = ['accuracy'])"
   ]
  },
  {
   "cell_type": "code",
   "execution_count": 57,
   "metadata": {},
   "outputs": [
    {
     "name": "stdout",
     "output_type": "stream",
     "text": [
      "Train on 70870 samples, validate on 17718 samples\n",
      "Epoch 1/100\n",
      " - 1s - loss: 0.0408 - acc: 0.9879 - val_loss: 0.0837 - val_acc: 0.9690\n",
      "Epoch 2/100\n",
      " - 1s - loss: 0.0406 - acc: 0.9882 - val_loss: 0.0838 - val_acc: 0.9690\n",
      "Epoch 3/100\n",
      " - 1s - loss: 0.0408 - acc: 0.9881 - val_loss: 0.0840 - val_acc: 0.9689\n",
      "Epoch 4/100\n",
      " - 1s - loss: 0.0404 - acc: 0.9880 - val_loss: 0.0836 - val_acc: 0.9690\n",
      "Epoch 5/100\n",
      " - 1s - loss: 0.0398 - acc: 0.9886 - val_loss: 0.0826 - val_acc: 0.9690\n",
      "Epoch 6/100\n",
      " - 1s - loss: 0.0396 - acc: 0.9884 - val_loss: 0.0817 - val_acc: 0.9695\n",
      "Epoch 7/100\n",
      " - 1s - loss: 0.0394 - acc: 0.9883 - val_loss: 0.0811 - val_acc: 0.9699\n",
      "Epoch 8/100\n",
      " - 1s - loss: 0.0398 - acc: 0.9882 - val_loss: 0.0809 - val_acc: 0.9697\n",
      "Epoch 9/100\n",
      " - 1s - loss: 0.0395 - acc: 0.9884 - val_loss: 0.0810 - val_acc: 0.9696\n",
      "Epoch 10/100\n",
      " - 1s - loss: 0.0392 - acc: 0.9887 - val_loss: 0.0809 - val_acc: 0.9695\n",
      "Epoch 11/100\n",
      " - 1s - loss: 0.0392 - acc: 0.9883 - val_loss: 0.0801 - val_acc: 0.9699\n",
      "Epoch 12/100\n",
      " - 1s - loss: 0.0390 - acc: 0.9884 - val_loss: 0.0795 - val_acc: 0.9704\n",
      "Epoch 13/100\n",
      " - 1s - loss: 0.0390 - acc: 0.9884 - val_loss: 0.0792 - val_acc: 0.9707\n",
      "Epoch 14/100\n",
      " - 1s - loss: 0.0387 - acc: 0.9888 - val_loss: 0.0793 - val_acc: 0.9704\n",
      "Epoch 15/100\n",
      " - 1s - loss: 0.0387 - acc: 0.9885 - val_loss: 0.0796 - val_acc: 0.9701\n",
      "Epoch 16/100\n",
      " - 1s - loss: 0.0382 - acc: 0.9889 - val_loss: 0.0797 - val_acc: 0.9698\n",
      "Epoch 17/100\n",
      " - 1s - loss: 0.0384 - acc: 0.9886 - val_loss: 0.0790 - val_acc: 0.9703\n",
      "Epoch 18/100\n",
      " - 1s - loss: 0.0382 - acc: 0.9885 - val_loss: 0.0779 - val_acc: 0.9708\n",
      "Epoch 19/100\n",
      " - 1s - loss: 0.0378 - acc: 0.9888 - val_loss: 0.0772 - val_acc: 0.9710\n",
      "Epoch 20/100\n",
      " - 1s - loss: 0.0378 - acc: 0.9891 - val_loss: 0.0771 - val_acc: 0.9712\n",
      "Epoch 21/100\n",
      " - 1s - loss: 0.0380 - acc: 0.9888 - val_loss: 0.0772 - val_acc: 0.9713\n",
      "Epoch 22/100\n",
      " - 1s - loss: 0.0375 - acc: 0.9888 - val_loss: 0.0772 - val_acc: 0.9709\n",
      "Epoch 23/100\n",
      " - 1s - loss: 0.0378 - acc: 0.9889 - val_loss: 0.0768 - val_acc: 0.9710\n",
      "Epoch 24/100\n",
      " - 1s - loss: 0.0371 - acc: 0.9893 - val_loss: 0.0760 - val_acc: 0.9714\n",
      "Epoch 25/100\n",
      " - 1s - loss: 0.0367 - acc: 0.9894 - val_loss: 0.0753 - val_acc: 0.9719\n",
      "Epoch 26/100\n",
      " - 1s - loss: 0.0378 - acc: 0.9888 - val_loss: 0.0751 - val_acc: 0.9719\n",
      "Epoch 27/100\n",
      " - 1s - loss: 0.0369 - acc: 0.9890 - val_loss: 0.0753 - val_acc: 0.9717\n",
      "Epoch 28/100\n",
      " - 1s - loss: 0.0370 - acc: 0.9888 - val_loss: 0.0754 - val_acc: 0.9718\n",
      "Epoch 29/100\n",
      " - 1s - loss: 0.0368 - acc: 0.9889 - val_loss: 0.0753 - val_acc: 0.9718\n",
      "Epoch 30/100\n",
      " - 1s - loss: 0.0372 - acc: 0.9888 - val_loss: 0.0749 - val_acc: 0.9717\n",
      "Epoch 31/100\n",
      " - 1s - loss: 0.0364 - acc: 0.9891 - val_loss: 0.0742 - val_acc: 0.9721\n",
      "Epoch 32/100\n",
      " - 1s - loss: 0.0364 - acc: 0.9892 - val_loss: 0.0736 - val_acc: 0.9722\n",
      "Epoch 33/100\n",
      " - 1s - loss: 0.0360 - acc: 0.9894 - val_loss: 0.0730 - val_acc: 0.9726\n",
      "Epoch 34/100\n",
      " - 1s - loss: 0.0366 - acc: 0.9893 - val_loss: 0.0730 - val_acc: 0.9726\n",
      "Epoch 35/100\n",
      " - 1s - loss: 0.0361 - acc: 0.9893 - val_loss: 0.0730 - val_acc: 0.9725\n",
      "Epoch 36/100\n",
      " - 1s - loss: 0.0363 - acc: 0.9893 - val_loss: 0.0730 - val_acc: 0.9726\n",
      "Epoch 37/100\n",
      " - 1s - loss: 0.0363 - acc: 0.9891 - val_loss: 0.0729 - val_acc: 0.9723\n",
      "Epoch 38/100\n",
      " - 1s - loss: 0.0361 - acc: 0.9892 - val_loss: 0.0726 - val_acc: 0.9725\n",
      "Epoch 39/100\n",
      " - 1s - loss: 0.0357 - acc: 0.9892 - val_loss: 0.0722 - val_acc: 0.9727\n",
      "Epoch 40/100\n",
      " - 1s - loss: 0.0360 - acc: 0.9890 - val_loss: 0.0722 - val_acc: 0.9727\n",
      "Epoch 41/100\n",
      " - 1s - loss: 0.0352 - acc: 0.9896 - val_loss: 0.0719 - val_acc: 0.9727\n",
      "Epoch 42/100\n",
      " - 1s - loss: 0.0361 - acc: 0.9892 - val_loss: 0.0716 - val_acc: 0.9729\n",
      "Epoch 43/100\n",
      " - 1s - loss: 0.0351 - acc: 0.9895 - val_loss: 0.0713 - val_acc: 0.9729\n",
      "Epoch 44/100\n",
      " - 1s - loss: 0.0362 - acc: 0.9894 - val_loss: 0.0712 - val_acc: 0.9730\n",
      "Epoch 45/100\n",
      " - 1s - loss: 0.0357 - acc: 0.9893 - val_loss: 0.0710 - val_acc: 0.9730\n",
      "Epoch 46/100\n",
      " - 1s - loss: 0.0353 - acc: 0.9895 - val_loss: 0.0708 - val_acc: 0.9733\n",
      "Epoch 47/100\n",
      " - 1s - loss: 0.0356 - acc: 0.9895 - val_loss: 0.0706 - val_acc: 0.9737\n",
      "Epoch 48/100\n",
      " - 1s - loss: 0.0356 - acc: 0.9897 - val_loss: 0.0703 - val_acc: 0.9739\n",
      "Epoch 49/100\n",
      " - 1s - loss: 0.0346 - acc: 0.9900 - val_loss: 0.0699 - val_acc: 0.9739\n",
      "Epoch 50/100\n",
      " - 1s - loss: 0.0353 - acc: 0.9895 - val_loss: 0.0697 - val_acc: 0.9739\n",
      "Epoch 51/100\n",
      " - 1s - loss: 0.0349 - acc: 0.9900 - val_loss: 0.0696 - val_acc: 0.9740\n",
      "Epoch 52/100\n",
      " - 1s - loss: 0.0348 - acc: 0.9897 - val_loss: 0.0694 - val_acc: 0.9739\n",
      "Epoch 53/100\n",
      " - 1s - loss: 0.0339 - acc: 0.9902 - val_loss: 0.0693 - val_acc: 0.9739\n",
      "Epoch 54/100\n",
      " - 1s - loss: 0.0346 - acc: 0.9895 - val_loss: 0.0692 - val_acc: 0.9740\n",
      "Epoch 55/100\n",
      " - 1s - loss: 0.0344 - acc: 0.9899 - val_loss: 0.0692 - val_acc: 0.9740\n",
      "Epoch 56/100\n",
      " - 1s - loss: 0.0345 - acc: 0.9894 - val_loss: 0.0689 - val_acc: 0.9740\n",
      "Epoch 57/100\n",
      " - 1s - loss: 0.0344 - acc: 0.9898 - val_loss: 0.0687 - val_acc: 0.9742\n",
      "Epoch 58/100\n",
      " - 1s - loss: 0.0341 - acc: 0.9901 - val_loss: 0.0686 - val_acc: 0.9743\n",
      "Epoch 59/100\n",
      " - 1s - loss: 0.0341 - acc: 0.9898 - val_loss: 0.0683 - val_acc: 0.9744\n",
      "Epoch 60/100\n",
      " - 1s - loss: 0.0343 - acc: 0.9901 - val_loss: 0.0678 - val_acc: 0.9746\n",
      "Epoch 61/100\n",
      " - 1s - loss: 0.0342 - acc: 0.9899 - val_loss: 0.0677 - val_acc: 0.9746\n",
      "Epoch 62/100\n",
      " - 1s - loss: 0.0338 - acc: 0.9901 - val_loss: 0.0681 - val_acc: 0.9745\n",
      "Epoch 63/100\n",
      " - 1s - loss: 0.0339 - acc: 0.9898 - val_loss: 0.0684 - val_acc: 0.9744\n",
      "Epoch 64/100\n",
      " - 1s - loss: 0.0340 - acc: 0.9894 - val_loss: 0.0684 - val_acc: 0.9744\n",
      "Epoch 65/100\n",
      " - 1s - loss: 0.0341 - acc: 0.9895 - val_loss: 0.0678 - val_acc: 0.9745\n",
      "Epoch 66/100\n",
      " - 1s - loss: 0.0338 - acc: 0.9898 - val_loss: 0.0675 - val_acc: 0.9747\n",
      "Epoch 67/100\n",
      " - 1s - loss: 0.0339 - acc: 0.9901 - val_loss: 0.0671 - val_acc: 0.9748\n",
      "Epoch 68/100\n",
      " - 1s - loss: 0.0340 - acc: 0.9897 - val_loss: 0.0668 - val_acc: 0.9751\n",
      "Epoch 69/100\n",
      " - 1s - loss: 0.0334 - acc: 0.9900 - val_loss: 0.0669 - val_acc: 0.9749\n",
      "Epoch 70/100\n",
      " - 1s - loss: 0.0333 - acc: 0.9901 - val_loss: 0.0665 - val_acc: 0.9751\n",
      "Epoch 71/100\n",
      " - 1s - loss: 0.0335 - acc: 0.9900 - val_loss: 0.0664 - val_acc: 0.9751\n",
      "Epoch 72/100\n",
      " - 1s - loss: 0.0335 - acc: 0.9901 - val_loss: 0.0662 - val_acc: 0.9753\n",
      "Epoch 73/100\n",
      " - 1s - loss: 0.0329 - acc: 0.9898 - val_loss: 0.0657 - val_acc: 0.9754\n",
      "Epoch 74/100\n",
      " - 1s - loss: 0.0327 - acc: 0.9903 - val_loss: 0.0656 - val_acc: 0.9754\n",
      "Epoch 75/100\n",
      " - 1s - loss: 0.0328 - acc: 0.9901 - val_loss: 0.0660 - val_acc: 0.9752\n",
      "Epoch 76/100\n",
      " - 1s - loss: 0.0329 - acc: 0.9900 - val_loss: 0.0665 - val_acc: 0.9748\n",
      "Epoch 77/100\n",
      " - 1s - loss: 0.0330 - acc: 0.9900 - val_loss: 0.0664 - val_acc: 0.9748\n",
      "Epoch 78/100\n",
      " - 1s - loss: 0.0330 - acc: 0.9899 - val_loss: 0.0655 - val_acc: 0.9754\n",
      "Epoch 79/100\n",
      " - 1s - loss: 0.0325 - acc: 0.9906 - val_loss: 0.0649 - val_acc: 0.9758\n",
      "Epoch 80/100\n",
      " - 1s - loss: 0.0330 - acc: 0.9903 - val_loss: 0.0648 - val_acc: 0.9758\n",
      "Epoch 81/100\n",
      " - 1s - loss: 0.0326 - acc: 0.9902 - val_loss: 0.0650 - val_acc: 0.9757\n",
      "Epoch 82/100\n",
      " - 1s - loss: 0.0323 - acc: 0.9905 - val_loss: 0.0653 - val_acc: 0.9754\n",
      "Epoch 83/100\n",
      " - 1s - loss: 0.0328 - acc: 0.9902 - val_loss: 0.0654 - val_acc: 0.9752\n",
      "Epoch 84/100\n",
      " - 1s - loss: 0.0324 - acc: 0.9902 - val_loss: 0.0651 - val_acc: 0.9754\n",
      "Epoch 85/100\n",
      " - 1s - loss: 0.0327 - acc: 0.9900 - val_loss: 0.0647 - val_acc: 0.9756\n",
      "Epoch 86/100\n",
      " - 1s - loss: 0.0322 - acc: 0.9905 - val_loss: 0.0646 - val_acc: 0.9757\n",
      "Epoch 87/100\n",
      " - 1s - loss: 0.0324 - acc: 0.9901 - val_loss: 0.0645 - val_acc: 0.9758\n",
      "Epoch 88/100\n",
      " - 1s - loss: 0.0322 - acc: 0.9901 - val_loss: 0.0644 - val_acc: 0.9758\n",
      "Epoch 89/100\n",
      " - 1s - loss: 0.0323 - acc: 0.9901 - val_loss: 0.0642 - val_acc: 0.9758\n",
      "Epoch 90/100\n",
      " - 1s - loss: 0.0327 - acc: 0.9901 - val_loss: 0.0640 - val_acc: 0.9759\n",
      "Epoch 91/100\n",
      " - 1s - loss: 0.0315 - acc: 0.9905 - val_loss: 0.0639 - val_acc: 0.9760\n",
      "Epoch 92/100\n",
      " - 1s - loss: 0.0318 - acc: 0.9904 - val_loss: 0.0636 - val_acc: 0.9761\n",
      "Epoch 93/100\n",
      " - 1s - loss: 0.0325 - acc: 0.9901 - val_loss: 0.0633 - val_acc: 0.9761\n",
      "Epoch 94/100\n",
      " - 1s - loss: 0.0319 - acc: 0.9902 - val_loss: 0.0632 - val_acc: 0.9762\n",
      "Epoch 95/100\n",
      " - 1s - loss: 0.0318 - acc: 0.9902 - val_loss: 0.0637 - val_acc: 0.9757\n",
      "Epoch 96/100\n",
      " - 1s - loss: 0.0317 - acc: 0.9904 - val_loss: 0.0639 - val_acc: 0.9758\n"
     ]
    },
    {
     "name": "stdout",
     "output_type": "stream",
     "text": [
      "Epoch 97/100\n",
      " - 1s - loss: 0.0315 - acc: 0.9906 - val_loss: 0.0636 - val_acc: 0.9758\n",
      "Epoch 98/100\n",
      " - 1s - loss: 0.0315 - acc: 0.9905 - val_loss: 0.0632 - val_acc: 0.9760\n",
      "Epoch 99/100\n",
      " - 1s - loss: 0.0318 - acc: 0.9903 - val_loss: 0.0631 - val_acc: 0.9761\n",
      "Epoch 100/100\n",
      " - 1s - loss: 0.0318 - acc: 0.9904 - val_loss: 0.0632 - val_acc: 0.9760\n"
     ]
    },
    {
     "data": {
      "text/plain": [
       "<keras.callbacks.History at 0x7fcb7e84e128>"
      ]
     },
     "execution_count": 57,
     "metadata": {},
     "output_type": "execute_result"
    }
   ],
   "source": [
    "model.fit(x_train, y_train, batch_size = 40000, epochs = 100, validation_split = 0.2, verbose = 2)"
   ]
  },
  {
   "cell_type": "code",
   "execution_count": 58,
   "metadata": {},
   "outputs": [],
   "source": [
    "model.save('run_walk.h5')"
   ]
  },
  {
   "cell_type": "code",
   "execution_count": null,
   "metadata": {},
   "outputs": [],
   "source": []
  }
 ],
 "metadata": {
  "kernelspec": {
   "display_name": "Python 3",
   "language": "python",
   "name": "python3"
  },
  "language_info": {
   "codemirror_mode": {
    "name": "ipython",
    "version": 3
   },
   "file_extension": ".py",
   "mimetype": "text/x-python",
   "name": "python",
   "nbconvert_exporter": "python",
   "pygments_lexer": "ipython3",
   "version": "3.6.6"
  }
 },
 "nbformat": 4,
 "nbformat_minor": 2
}
